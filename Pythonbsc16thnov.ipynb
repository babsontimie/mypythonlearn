{
  "nbformat": 4,
  "nbformat_minor": 0,
  "metadata": {
    "colab": {
      "provenance": []
    },
    "kernelspec": {
      "name": "python3",
      "display_name": "Python 3"
    },
    "language_info": {
      "name": "python"
    }
  },
  "cells": [
    {
      "cell_type": "markdown",
      "source": [
        "How Does Python Works?\n",
        "\n",
        "1.   The python is a interpreted language,that works on the concept of line by line excution.\n",
        "2.   Python is a dynamic language,that means language has it's own brain.\n",
        "\n",
        "#**Topics of Today/Agenda**\n",
        "\n",
        "\n",
        "\n",
        "1.   Variables\n",
        "2.   Datatypes\n",
        "3.   Comments\n",
        "4.   Indentation\n",
        "5.   Block of Code\n",
        "6.   Type Casting\n",
        "7.   Strings\n",
        "8.   Lists\n",
        "\n",
        "**TOPIC 1:Variables**\n",
        "\n",
        "Def:These are nothing just a container to store data,now these also has the reference to memory location."
      ],
      "metadata": {
        "id": "AOWAyZSSflap"
      }
    },
    {
      "cell_type": "code",
      "execution_count": null,
      "metadata": {
        "colab": {
          "base_uri": "https://localhost:8080/"
        },
        "id": "eBQnz5C6arhq",
        "outputId": "e37d3e72-53f9-41fd-bdff-a17efbe9d976"
      },
      "outputs": [
        {
          "output_type": "stream",
          "name": "stdout",
          "text": [
            "<class 'int'>\n",
            "20\n"
          ]
        }
      ],
      "source": [
        "a = 10\n",
        "a = 20\n",
        "print(type(a))\n",
        "print(a)"
      ]
    },
    {
      "cell_type": "markdown",
      "source": [
        "Rules for Variables:\n",
        "\n",
        "1.   Do's\n",
        "\n",
        "  *   You can start your variable with small letter as well as capital letter\n",
        "\n",
        "  *   The name could start with _(underscore)\n",
        "\n",
        "  *   There could be the numbers in between and underscores could be there\n",
        "  *   This could be a combination of numeric and alphabet\n",
        "  *   You don't need to define any datatype.\n",
        "\n",
        "2. Dont\n",
        "\n",
        "  *   You can't start a name with number\n",
        "\n",
        "  *   Don't start any variable with special characters(@,#,%,&,*)\n",
        "  *   No spaces in between.\n",
        "\n",
        "\n",
        "\n",
        "\n",
        "\n",
        "\n"
      ],
      "metadata": {
        "id": "YwvYaqJGiua8"
      }
    },
    {
      "cell_type": "code",
      "source": [
        "#Do's\n",
        "#These all are the declaration types of a variable\n",
        "myVar = 20\n",
        "MyVar = 10\n",
        "_myVar = 10\n",
        "myVar10ar = 10\n",
        "my_Var = 10\n",
        "myvar10er36  = 10\n",
        "#Don't\n",
        "#1myvar = 10\n",
        "#&var = 10\n",
        "#my var = 10\n"
      ],
      "metadata": {
        "id": "PIVShL9Uh3CI"
      },
      "execution_count": null,
      "outputs": []
    },
    {
      "cell_type": "markdown",
      "source": [
        "**Topic 2:Comments**\n",
        "\n",
        "In python the comments are used to describe a piece of code and also to eliminate the execution of those which are commented.\n",
        "\n",
        "*   In python we use (#) hastag to comment\n",
        "*   Multiline comment '''\n",
        "\n",
        "\n",
        "\n",
        "\n"
      ],
      "metadata": {
        "id": "b9MBfOgflNaO"
      }
    },
    {
      "cell_type": "code",
      "source": [
        "'''\n",
        "This is a python program\n",
        "which has been written in\n",
        "multiline comment and it won't\n",
        "be printed\n",
        "'''\n",
        "print(\"Hello World\")"
      ],
      "metadata": {
        "colab": {
          "base_uri": "https://localhost:8080/"
        },
        "id": "pPXJJRF8mVnN",
        "outputId": "f36533e6-ec7b-4885-ab14-75bc497505d2"
      },
      "execution_count": null,
      "outputs": [
        {
          "output_type": "stream",
          "name": "stdout",
          "text": [
            "Hello World\n"
          ]
        }
      ]
    },
    {
      "cell_type": "markdown",
      "source": [
        "**Topic 3:Indentations and Block of code**"
      ],
      "metadata": {
        "id": "IglQAu0um1s6"
      }
    },
    {
      "cell_type": "code",
      "source": [
        "def sumOfNumber():\n",
        "  a = 10\n",
        "  b = 20\n",
        "  return a+b"
      ],
      "metadata": {
        "id": "w2zRJZxBlHax"
      },
      "execution_count": null,
      "outputs": []
    },
    {
      "cell_type": "markdown",
      "source": [
        "**Topic 4:Datatypes**\n",
        "\n",
        "The types of data that could be stored inside the variables\n",
        "\n",
        "IN PYTHON WE HAVE 6 DATATYPES:\n",
        "\n",
        "1.   Numeric\n",
        "2.   Text\n",
        "3.   Sequence\n",
        "4.   Set\n",
        "5.   Map\n",
        "6.   None\n",
        "\n",
        "BRIEF ABOUT THE DATATYPES:\n",
        "\n",
        "1.   Numerics\n",
        "\n",
        "  *   Real Numbers:(Solid values 1,2,-1,-2)->Integer(int)\n",
        "  *   Decimal numbers:(values like 1.2,-1.2,1.1,-2,9)->Float(float)\n",
        "  *   Complex Numbers(Values 2+6j)->Complex(complex)\n",
        "2.   Text\n",
        "  *   Strings(str)\n",
        "\n",
        "3.   Sequence:\n",
        "\n",
        "  *   List:Changable\n",
        "  *   Tuple:Unchangeable\n",
        "\n",
        "4.   Maps:\n",
        "\n",
        "  *  Dictionary(dic)\n",
        "5. Sets:\n",
        "  \n",
        "  *   Duplicacy Removal->(set)\n",
        "\n",
        "6. None\n",
        "\n",
        "  *   Nothing represents(None)\n",
        "\n",
        "\n",
        "\n",
        "\n",
        "\n",
        "\n",
        "\n",
        "\n",
        "\n",
        "\n"
      ],
      "metadata": {
        "id": "qSU45WvJnQ_7"
      }
    },
    {
      "cell_type": "markdown",
      "source": [
        "**Topic:Numericals**\n",
        "\n",
        "It is a countable entity/or it could be infinity"
      ],
      "metadata": {
        "id": "VkKBdC-1qZy_"
      }
    },
    {
      "cell_type": "code",
      "source": [
        "#integer:the value without decimal values\n",
        "#range:- infinity to +infinity(without any particular point values,only static values)\n",
        "a = 12\n",
        "a = 54738438480958034904903949093403405\n",
        "type(a)"
      ],
      "metadata": {
        "colab": {
          "base_uri": "https://localhost:8080/"
        },
        "id": "eAFNKDSEnLBL",
        "outputId": "a92c5bde-553f-49ff-e284-a5fd7055ed51"
      },
      "execution_count": null,
      "outputs": [
        {
          "output_type": "execute_result",
          "data": {
            "text/plain": [
              "int"
            ]
          },
          "metadata": {},
          "execution_count": 20
        }
      ]
    },
    {
      "cell_type": "code",
      "source": [
        "#integer could also be negetive\n",
        "a = -12\n",
        "a = -387468970293803333320940928304920394\n",
        "type(a)\n"
      ],
      "metadata": {
        "colab": {
          "base_uri": "https://localhost:8080/"
        },
        "id": "VZ4O9cL8q-C8",
        "outputId": "e0d9b243-2180-44e6-ea3d-132af61970bd"
      },
      "execution_count": null,
      "outputs": [
        {
          "output_type": "execute_result",
          "data": {
            "text/plain": [
              "int"
            ]
          },
          "metadata": {},
          "execution_count": 21
        }
      ]
    },
    {
      "cell_type": "code",
      "source": [
        "#type 2:float(the values with decimals)\n",
        "#range: - infinity to +infinity(particular point values,only static values)\n",
        "a = 2.3449\n",
        "a = 55745732.555555577878\n",
        "type(a)"
      ],
      "metadata": {
        "colab": {
          "base_uri": "https://localhost:8080/"
        },
        "id": "1US3-aozrH1I",
        "outputId": "0cfbc95a-fa83-44c1-dfec-93a8ba346adb"
      },
      "execution_count": null,
      "outputs": [
        {
          "output_type": "execute_result",
          "data": {
            "text/plain": [
              "float"
            ]
          },
          "metadata": {},
          "execution_count": 22
        }
      ]
    },
    {
      "cell_type": "code",
      "source": [
        "#negetive\n",
        "a = -2.86646\n",
        "a = -5989764.686745453\n",
        "type(a)"
      ],
      "metadata": {
        "colab": {
          "base_uri": "https://localhost:8080/"
        },
        "id": "cN9qCayErj7T",
        "outputId": "bf0c92d6-637d-4934-fa0f-50e164d9617d"
      },
      "execution_count": null,
      "outputs": [
        {
          "output_type": "execute_result",
          "data": {
            "text/plain": [
              "float"
            ]
          },
          "metadata": {},
          "execution_count": 23
        }
      ]
    },
    {
      "cell_type": "code",
      "source": [
        "#topic 3:complex\n",
        "a = 3 + 2j\n",
        "type(a)"
      ],
      "metadata": {
        "colab": {
          "base_uri": "https://localhost:8080/"
        },
        "id": "n2c3v1OLrrug",
        "outputId": "7a6cd455-d2bc-4041-dbd6-69b6eb06e8c9"
      },
      "execution_count": null,
      "outputs": [
        {
          "output_type": "execute_result",
          "data": {
            "text/plain": [
              "complex"
            ]
          },
          "metadata": {},
          "execution_count": 24
        }
      ]
    },
    {
      "cell_type": "code",
      "source": [
        "#singular\n",
        "a = 3j\n",
        "type(a)"
      ],
      "metadata": {
        "colab": {
          "base_uri": "https://localhost:8080/"
        },
        "id": "U773j42IsEKk",
        "outputId": "1591b6d6-2782-4bd6-e4d5-5813abbdde50"
      },
      "execution_count": null,
      "outputs": [
        {
          "output_type": "execute_result",
          "data": {
            "text/plain": [
              "complex"
            ]
          },
          "metadata": {},
          "execution_count": 25
        }
      ]
    },
    {
      "cell_type": "code",
      "source": [
        "#negetive\n",
        "a = -3 + 4j\n",
        "type(a)"
      ],
      "metadata": {
        "colab": {
          "base_uri": "https://localhost:8080/"
        },
        "id": "rfo7zV7bsJkS",
        "outputId": "336583ac-6e7c-4e81-bbf6-7f84f5e46a46"
      },
      "execution_count": null,
      "outputs": [
        {
          "output_type": "execute_result",
          "data": {
            "text/plain": [
              "complex"
            ]
          },
          "metadata": {},
          "execution_count": 26
        }
      ]
    },
    {
      "cell_type": "markdown",
      "source": [
        "**Topic:Strings**\n",
        "\n",
        "Def: Anything inside a quote is considered as string in python,or the alpha-numerical combination."
      ],
      "metadata": {
        "id": "uD5LgvKQsR7z"
      }
    },
    {
      "cell_type": "code",
      "source": [
        "#in python the double quotes / single quotes are equal\n",
        "a = 'Nidhi'\n",
        "a = \"Nidhi\""
      ],
      "metadata": {
        "id": "po8WDtU2sQRz"
      },
      "execution_count": null,
      "outputs": []
    },
    {
      "cell_type": "code",
      "source": [
        "a = \"123\"\n",
        "a = \"^78394roj\"\n",
        "a = \"ihreif2376478$\"\n",
        "type(a)"
      ],
      "metadata": {
        "colab": {
          "base_uri": "https://localhost:8080/"
        },
        "id": "_R1eRoGsswtP",
        "outputId": "8d12e840-1644-4eae-ef8b-63c6f0760961"
      },
      "execution_count": null,
      "outputs": [
        {
          "output_type": "execute_result",
          "data": {
            "text/plain": [
              "str"
            ]
          },
          "metadata": {},
          "execution_count": 28
        }
      ]
    },
    {
      "cell_type": "code",
      "source": [
        "a = \"https://intellipaat.com/\"\n",
        "type(a)"
      ],
      "metadata": {
        "colab": {
          "base_uri": "https://localhost:8080/"
        },
        "id": "1UgTxPMSs5Cb",
        "outputId": "fe3498ab-60c4-4375-ade2-59d731596aa2"
      },
      "execution_count": null,
      "outputs": [
        {
          "output_type": "execute_result",
          "data": {
            "text/plain": [
              "str"
            ]
          },
          "metadata": {},
          "execution_count": 29
        }
      ]
    },
    {
      "cell_type": "markdown",
      "source": [
        "**String Concatination**"
      ],
      "metadata": {
        "id": "Re9y99M_tJEF"
      }
    },
    {
      "cell_type": "code",
      "source": [
        "a  = 'Nidhi'\n",
        "age = \"27\"\n",
        "print(\"The name is \"+ a + \" age is \" + age)"
      ],
      "metadata": {
        "colab": {
          "base_uri": "https://localhost:8080/"
        },
        "id": "Yc2rYPX6tHaC",
        "outputId": "37d449f8-46b4-45a1-ed94-fa6e6d7c19ce"
      },
      "execution_count": null,
      "outputs": [
        {
          "output_type": "stream",
          "name": "stdout",
          "text": [
            "The name is Nidhi age is 27\n"
          ]
        }
      ]
    },
    {
      "cell_type": "code",
      "source": [
        "a = \"23\"\n",
        "b = \"67\"\n",
        "print(a+b)"
      ],
      "metadata": {
        "colab": {
          "base_uri": "https://localhost:8080/"
        },
        "id": "54SgFGbOtYWb",
        "outputId": "0e87c636-74af-49c6-df03-6b48a8797407"
      },
      "execution_count": null,
      "outputs": [
        {
          "output_type": "stream",
          "name": "stdout",
          "text": [
            "2367\n"
          ]
        }
      ]
    },
    {
      "cell_type": "code",
      "source": [
        "a = 23\n",
        "b = 67\n",
        "print(a+b)"
      ],
      "metadata": {
        "colab": {
          "base_uri": "https://localhost:8080/"
        },
        "id": "Fec7KrTstg1q",
        "outputId": "05c8eb55-75fa-4340-8e68-f1ed69a1d426"
      },
      "execution_count": null,
      "outputs": [
        {
          "output_type": "stream",
          "name": "stdout",
          "text": [
            "90\n"
          ]
        }
      ]
    },
    {
      "cell_type": "markdown",
      "source": [
        "**Topic:Typecasting**\n",
        "\n",
        "Def:If you want to convert a datatype into another data type then the process is typecasting."
      ],
      "metadata": {
        "id": "hCxPPh2vt9P1"
      }
    },
    {
      "cell_type": "code",
      "source": [
        "#Integer to Float\n",
        "a = 12\n",
        "print(type(a))\n",
        "a = float(a)\n",
        "print(type(a))\n",
        "print(a)"
      ],
      "metadata": {
        "colab": {
          "base_uri": "https://localhost:8080/"
        },
        "id": "T8Qdgo3Vtl26",
        "outputId": "e5b487bd-1a24-4b64-b8d0-99849dda6305"
      },
      "execution_count": null,
      "outputs": [
        {
          "output_type": "stream",
          "name": "stdout",
          "text": [
            "<class 'int'>\n",
            "<class 'float'>\n",
            "12.0\n"
          ]
        }
      ]
    },
    {
      "cell_type": "markdown",
      "source": [
        "NOTE:All the integer could be a string,but not all the strings are integer"
      ],
      "metadata": {
        "id": "_oGPLpnGueJF"
      }
    },
    {
      "cell_type": "code",
      "source": [
        "#string to integer and vice versa\n",
        "#First case:Int to str\n",
        "\n",
        "a = 12\n",
        "a = str(a)\n",
        "type(a), a\n"
      ],
      "metadata": {
        "colab": {
          "base_uri": "https://localhost:8080/"
        },
        "id": "zfmZ7zqLuQVZ",
        "outputId": "e361a4f7-78b2-4036-f0f5-2eda6933cb95"
      },
      "execution_count": null,
      "outputs": [
        {
          "output_type": "execute_result",
          "data": {
            "text/plain": [
              "(str, '12')"
            ]
          },
          "metadata": {},
          "execution_count": 39
        }
      ]
    },
    {
      "cell_type": "code",
      "source": [
        "#second case:str to int\n",
        "a = \"Nidhi123\"\n",
        "a = int(a)\n",
        "type(a)"
      ],
      "metadata": {
        "colab": {
          "base_uri": "https://localhost:8080/",
          "height": 193
        },
        "id": "5plh_ywuuyGF",
        "outputId": "3047ac92-4f6e-4dc2-afb8-010d736937cb"
      },
      "execution_count": null,
      "outputs": [
        {
          "output_type": "error",
          "ename": "ValueError",
          "evalue": "invalid literal for int() with base 10: 'Nidhi123'",
          "traceback": [
            "\u001b[0;31m---------------------------------------------------------------------------\u001b[0m",
            "\u001b[0;31mValueError\u001b[0m                                Traceback (most recent call last)",
            "\u001b[0;32m<ipython-input-40-03a1c8f02cae>\u001b[0m in \u001b[0;36m<cell line: 3>\u001b[0;34m()\u001b[0m\n\u001b[1;32m      1\u001b[0m \u001b[0;31m#second case:str to int\u001b[0m\u001b[0;34m\u001b[0m\u001b[0;34m\u001b[0m\u001b[0m\n\u001b[1;32m      2\u001b[0m \u001b[0ma\u001b[0m \u001b[0;34m=\u001b[0m \u001b[0;34m\"Nidhi123\"\u001b[0m\u001b[0;34m\u001b[0m\u001b[0;34m\u001b[0m\u001b[0m\n\u001b[0;32m----> 3\u001b[0;31m \u001b[0ma\u001b[0m \u001b[0;34m=\u001b[0m \u001b[0mint\u001b[0m\u001b[0;34m(\u001b[0m\u001b[0ma\u001b[0m\u001b[0;34m)\u001b[0m\u001b[0;34m\u001b[0m\u001b[0;34m\u001b[0m\u001b[0m\n\u001b[0m\u001b[1;32m      4\u001b[0m \u001b[0mtype\u001b[0m\u001b[0;34m(\u001b[0m\u001b[0ma\u001b[0m\u001b[0;34m)\u001b[0m\u001b[0;34m\u001b[0m\u001b[0;34m\u001b[0m\u001b[0m\n",
            "\u001b[0;31mValueError\u001b[0m: invalid literal for int() with base 10: 'Nidhi123'"
          ]
        }
      ]
    },
    {
      "cell_type": "markdown",
      "source": [
        "Error:Raised due to the alphabet"
      ],
      "metadata": {
        "id": "63jgA_Vyu9-x"
      }
    },
    {
      "cell_type": "code",
      "source": [
        "a = \"12\"\n",
        "a = int(a)\n",
        "type(a)"
      ],
      "metadata": {
        "colab": {
          "base_uri": "https://localhost:8080/"
        },
        "id": "Pr_JEahIu8CO",
        "outputId": "f72ef5c2-77d3-48b5-9f04-d2fec62da870"
      },
      "execution_count": null,
      "outputs": [
        {
          "output_type": "execute_result",
          "data": {
            "text/plain": [
              "int"
            ]
          },
          "metadata": {},
          "execution_count": 41
        }
      ]
    },
    {
      "cell_type": "markdown",
      "source": [
        "#**Topic :Slicing and Indexing**"
      ],
      "metadata": {
        "id": "chbkkFquzPac"
      }
    },
    {
      "cell_type": "code",
      "source": [
        "# -11  -10   -9    -8    -7     -6    -5    -4    -3    -2     -1 :Natural(with - sign),negetive indexing\n",
        "\n",
        "#  I     N     T     E     L     L     I     P     A     A     T\n",
        "\n",
        "#  0     1     2     3     4     5     6     7     8     9     10 :Positive Index(Whole Number)\n",
        "\n",
        "#Length: 11"
      ],
      "metadata": {
        "id": "lchgv_iAvHZl"
      },
      "execution_count": null,
      "outputs": []
    },
    {
      "cell_type": "markdown",
      "source": [
        "Q.How you will find the last index element if you are just aware about the length of string?\n",
        "\n",
        "A:Length - 1"
      ],
      "metadata": {
        "id": "EccWklwG1Hpp"
      }
    },
    {
      "cell_type": "code",
      "source": [
        "A = 'INTELLIPAAT'\n",
        "#access the elements using indexing\n",
        "#syntax:varName[index]\n",
        "\n",
        "A[0],A[6],A[-11],A[-5]"
      ],
      "metadata": {
        "colab": {
          "base_uri": "https://localhost:8080/"
        },
        "id": "D6RPGoa11URy",
        "outputId": "3afed0fc-9fdc-4ece-ee8a-6601bed2db83"
      },
      "execution_count": null,
      "outputs": [
        {
          "output_type": "execute_result",
          "data": {
            "text/plain": [
              "('I', 'I', 'I', 'I')"
            ]
          },
          "metadata": {},
          "execution_count": 42
        }
      ]
    },
    {
      "cell_type": "code",
      "source": [
        "#Access the letter L's using both negetive as well positive indexing\n",
        "A[4],A[5],A[-6],A[-7]"
      ],
      "metadata": {
        "colab": {
          "base_uri": "https://localhost:8080/"
        },
        "id": "ZXqoxZzv1vO0",
        "outputId": "3f2a2f85-577a-4463-f24c-031fa2e6712e"
      },
      "execution_count": null,
      "outputs": [
        {
          "output_type": "execute_result",
          "data": {
            "text/plain": [
              "('L', 'L', 'L', 'L')"
            ]
          },
          "metadata": {},
          "execution_count": 44
        }
      ]
    },
    {
      "cell_type": "markdown",
      "source": [
        "**Slicing:**\n",
        "Def:Dividing.It retrives values from a given range."
      ],
      "metadata": {
        "id": "6A-11i392S9z"
      }
    },
    {
      "cell_type": "code",
      "source": [
        "# -11  -10   -9    -8    -7     -6    -5    -4    -3    -2     -1 :Natural(with - sign),negetive indexing\n",
        "\n",
        "#  I     N     T     E     L     L     I     P     A     A     T\n",
        "\n",
        "#  0     1     2     3     4     5     6     7     8     9     10 :Positive Index(Whole Number)\n",
        "\n",
        "#Length: 11"
      ],
      "metadata": {
        "id": "-ziQKpTb2GgO"
      },
      "execution_count": null,
      "outputs": []
    },
    {
      "cell_type": "code",
      "source": [
        "#syntax: varName[StartPosition : EndPosition + 1]\n",
        "#startIndex < EndIndex\n",
        "#TELLI\n",
        "a = \"INTELLIPAAT\"\n",
        "print(a[2 : 7] , a[-9 : -4])\n",
        "#PAAT\n",
        "print(a[7 : ],a[-4 : ])"
      ],
      "metadata": {
        "colab": {
          "base_uri": "https://localhost:8080/"
        },
        "id": "8sgcNzMK3AXF",
        "outputId": "1f3edbaa-2d34-46c0-8cae-c51d3163cc18"
      },
      "execution_count": null,
      "outputs": [
        {
          "output_type": "stream",
          "name": "stdout",
          "text": [
            "TELLI TELLI\n",
            "PAAT PAAT\n"
          ]
        }
      ]
    },
    {
      "cell_type": "code",
      "source": [
        "#TAAP\n",
        "b = a[7: ]\n",
        "print(b)\n",
        "#reversing\n",
        "b[::-1]\n",
        "\n",
        "b = a[-4:]\n",
        "print(b)\n",
        "\n",
        "b[::-1]"
      ],
      "metadata": {
        "colab": {
          "base_uri": "https://localhost:8080/",
          "height": 70
        },
        "id": "Le-32bVs4HTR",
        "outputId": "91774092-a8fc-47b0-9929-dd4d3ef03875"
      },
      "execution_count": null,
      "outputs": [
        {
          "output_type": "stream",
          "name": "stdout",
          "text": [
            "PAAT\n",
            "PAAT\n"
          ]
        },
        {
          "output_type": "execute_result",
          "data": {
            "text/plain": [
              "'TAAP'"
            ],
            "application/vnd.google.colaboratory.intrinsic+json": {
              "type": "string"
            }
          },
          "metadata": {},
          "execution_count": 49
        }
      ]
    },
    {
      "cell_type": "code",
      "source": [
        "#P\n",
        "a = \"INTELLIPAAT\"\n",
        "print(a[7 : 8] , a[-4 : -3])"
      ],
      "metadata": {
        "colab": {
          "base_uri": "https://localhost:8080/"
        },
        "id": "EX4Hp4zi4tfc",
        "outputId": "9e17974d-eb2d-40ae-cb04-f42e73bbf4b3"
      },
      "execution_count": null,
      "outputs": [
        {
          "output_type": "stream",
          "name": "stdout",
          "text": [
            "P P\n"
          ]
        }
      ]
    },
    {
      "cell_type": "markdown",
      "source": [
        "**String Function**"
      ],
      "metadata": {
        "id": "T3O-jvtA5GUf"
      }
    },
    {
      "cell_type": "code",
      "source": [
        "#converting the string  into capital letters /uppercase\n",
        "a = \"hello world!!\"\n",
        "a.upper()"
      ],
      "metadata": {
        "colab": {
          "base_uri": "https://localhost:8080/",
          "height": 35
        },
        "id": "kRSLX3jq5R6X",
        "outputId": "4dfd3d1c-037c-4088-91fe-b3cb9ea972c9"
      },
      "execution_count": null,
      "outputs": [
        {
          "output_type": "execute_result",
          "data": {
            "text/plain": [
              "'HELLO WORLD!!'"
            ],
            "application/vnd.google.colaboratory.intrinsic+json": {
              "type": "string"
            }
          },
          "metadata": {},
          "execution_count": 51
        }
      ]
    },
    {
      "cell_type": "code",
      "source": [
        "#lower\n",
        "a = \"HELLO WORLD!!\"\n",
        "a.lower()"
      ],
      "metadata": {
        "colab": {
          "base_uri": "https://localhost:8080/",
          "height": 35
        },
        "id": "yDfzMFEo5faZ",
        "outputId": "e293f3ab-3bba-4ede-90de-24fa1019a4d2"
      },
      "execution_count": null,
      "outputs": [
        {
          "output_type": "execute_result",
          "data": {
            "text/plain": [
              "'hello world!!'"
            ],
            "application/vnd.google.colaboratory.intrinsic+json": {
              "type": "string"
            }
          },
          "metadata": {},
          "execution_count": 52
        }
      ]
    },
    {
      "cell_type": "code",
      "source": [
        "#length\n",
        "a = 'ghflwkjflwkkkkkkkeoiwufoejdl;qaewkd;lqkaedoieufllkjaefl;ma'\n",
        "len(a)"
      ],
      "metadata": {
        "colab": {
          "base_uri": "https://localhost:8080/"
        },
        "id": "HhoM5PRE5oyy",
        "outputId": "8ea8d811-17e5-4001-c1bd-a6b552c54f5f"
      },
      "execution_count": null,
      "outputs": [
        {
          "output_type": "execute_result",
          "data": {
            "text/plain": [
              "58"
            ]
          },
          "metadata": {},
          "execution_count": 53
        }
      ]
    },
    {
      "cell_type": "code",
      "source": [
        "a[len(a)-1]"
      ],
      "metadata": {
        "colab": {
          "base_uri": "https://localhost:8080/",
          "height": 35
        },
        "id": "HlvSBoKN5uy9",
        "outputId": "d723a053-4aca-4212-f8cc-fa37ff6891cf"
      },
      "execution_count": null,
      "outputs": [
        {
          "output_type": "execute_result",
          "data": {
            "text/plain": [
              "'a'"
            ],
            "application/vnd.google.colaboratory.intrinsic+json": {
              "type": "string"
            }
          },
          "metadata": {},
          "execution_count": 54
        }
      ]
    },
    {
      "cell_type": "code",
      "source": [
        "#replace\n",
        "a = \"hello hello hello world!!!\"\n",
        "#jello world\n",
        "#syntax:replace (string_to_be_replaced,replacement_string)\n",
        "a.replace('h','j').upper()"
      ],
      "metadata": {
        "colab": {
          "base_uri": "https://localhost:8080/",
          "height": 35
        },
        "id": "s24vwrtT552h",
        "outputId": "0b3718cf-a75d-4420-bd06-f8154076c468"
      },
      "execution_count": null,
      "outputs": [
        {
          "output_type": "execute_result",
          "data": {
            "text/plain": [
              "'JELLO JELLO JELLO WORLD!!!'"
            ],
            "application/vnd.google.colaboratory.intrinsic+json": {
              "type": "string"
            }
          },
          "metadata": {},
          "execution_count": 56
        }
      ]
    },
    {
      "cell_type": "markdown",
      "source": [
        "#**Topic 8:LIST**\n",
        "\n",
        "It is a series of object or item that could be of one datatype or different.\n",
        "They are mutable,which means you can delete,add or update any element present in the list.\n",
        "To define a list:[]"
      ],
      "metadata": {
        "id": "fIu0fG0k6fvG"
      }
    },
    {
      "cell_type": "code",
      "source": [
        "list1 = [1,\"Tea\",1.4,'Oil','Eggs']\n",
        "type(list1)"
      ],
      "metadata": {
        "colab": {
          "base_uri": "https://localhost:8080/"
        },
        "id": "XZBl70866XGm",
        "outputId": "a24dc9ca-8819-4204-83f3-72f2880abf60"
      },
      "execution_count": null,
      "outputs": [
        {
          "output_type": "execute_result",
          "data": {
            "text/plain": [
              "list"
            ]
          },
          "metadata": {},
          "execution_count": 57
        }
      ]
    },
    {
      "cell_type": "code",
      "source": [
        "list2 = [1 ,True, 'Nidhi', 9.0, 9+3j]\n",
        "type(list2)"
      ],
      "metadata": {
        "colab": {
          "base_uri": "https://localhost:8080/"
        },
        "id": "4jGwRkZ67tcT",
        "outputId": "40d81a0f-c156-4e85-a612-6a471e82a034"
      },
      "execution_count": null,
      "outputs": [
        {
          "output_type": "execute_result",
          "data": {
            "text/plain": [
              "list"
            ]
          },
          "metadata": {},
          "execution_count": 83
        }
      ]
    },
    {
      "cell_type": "code",
      "source": [
        "#array:one datatype\n",
        "list3 =[1,2,3,4,5,6,6,35]"
      ],
      "metadata": {
        "id": "YCGUxtZB78_X"
      },
      "execution_count": null,
      "outputs": []
    },
    {
      "cell_type": "code",
      "source": [
        "#indexing and slicing in list\n",
        "list2 = [1 ,True, 'Nidhi', 9.0, 9+3j]\n",
        "list2[1:4]"
      ],
      "metadata": {
        "colab": {
          "base_uri": "https://localhost:8080/"
        },
        "id": "ykvvc3WA8Itp",
        "outputId": "3a29db53-eb01-4f8c-81f6-9c74808aabd6"
      },
      "execution_count": null,
      "outputs": [
        {
          "output_type": "execute_result",
          "data": {
            "text/plain": [
              "[True, 'Nidhi', 9.0]"
            ]
          },
          "metadata": {},
          "execution_count": 61
        }
      ]
    },
    {
      "cell_type": "markdown",
      "source": [
        "**Functions in List**"
      ],
      "metadata": {
        "id": "ZbeF0gF98pW4"
      }
    },
    {
      "cell_type": "code",
      "source": [
        "#adding of the elements\n",
        "list2 = [1 ,True, 'Nidhi', 9.0, 9+3j]\n",
        "#two ways\n",
        "#1:at the end\n",
        "#2:In between"
      ],
      "metadata": {
        "id": "JKTMgO_K8QvM"
      },
      "execution_count": null,
      "outputs": []
    },
    {
      "cell_type": "code",
      "source": [
        "#Case 1:At the end\n",
        "#append() ->adding at the end\n",
        "#syn:listName.append(element_to_be_added)\n",
        "list2.append('Nidhi')\n",
        "list2.append(85)"
      ],
      "metadata": {
        "id": "tAaG6COP9RKX"
      },
      "execution_count": null,
      "outputs": []
    },
    {
      "cell_type": "code",
      "source": [
        "print(list2)"
      ],
      "metadata": {
        "colab": {
          "base_uri": "https://localhost:8080/"
        },
        "id": "cvqNxI_h9odc",
        "outputId": "9408cc49-a54e-4a1e-fd56-d4e25ba768cd"
      },
      "execution_count": null,
      "outputs": [
        {
          "output_type": "stream",
          "name": "stdout",
          "text": [
            "[1, True, 'Nidhi', 9.0, (9+3j), 'Nidhi', 85]\n"
          ]
        }
      ]
    },
    {
      "cell_type": "code",
      "source": [
        "#case2:Adding in between\n",
        "#insert()-> insert values in between\n",
        "#syn:listName.insert(index,value)\n",
        "list2.insert(3,'Aman')\n",
        "list2"
      ],
      "metadata": {
        "colab": {
          "base_uri": "https://localhost:8080/"
        },
        "id": "O5xIz03W9rP4",
        "outputId": "fde1769d-ad05-499c-d5e1-b32d8c47be99"
      },
      "execution_count": null,
      "outputs": [
        {
          "output_type": "execute_result",
          "data": {
            "text/plain": [
              "[1, True, 'Nidhi', 'Aman', 9.0, (9+3j), 'Nidhi', 85]"
            ]
          },
          "metadata": {},
          "execution_count": 87
        }
      ]
    },
    {
      "cell_type": "code",
      "source": [
        "list2.insert(-3 , 'Preeti')\n",
        "list2"
      ],
      "metadata": {
        "colab": {
          "base_uri": "https://localhost:8080/"
        },
        "id": "5khrTqqE-IKy",
        "outputId": "f384dbc7-41b0-423e-eec4-c01bbff59723"
      },
      "execution_count": null,
      "outputs": [
        {
          "output_type": "execute_result",
          "data": {
            "text/plain": [
              "[1, True, 'Nidhi', 'Aman', 9.0, 'Preeti', (9+3j), 'Nidhi', 85]"
            ]
          },
          "metadata": {},
          "execution_count": 88
        }
      ]
    },
    {
      "cell_type": "code",
      "source": [
        "list2.insert(-4 ,'Dev')\n",
        "list2"
      ],
      "metadata": {
        "colab": {
          "base_uri": "https://localhost:8080/"
        },
        "id": "eLdJek1n_rLW",
        "outputId": "c9d61421-3857-4373-c033-d004a0b154cd"
      },
      "execution_count": null,
      "outputs": [
        {
          "output_type": "execute_result",
          "data": {
            "text/plain": [
              "[1, True, 'Nidhi', 'Aman', 9.0, 'Dev', 'Preeti', (9+3j), 'Nidhi', 85]"
            ]
          },
          "metadata": {},
          "execution_count": 89
        }
      ]
    },
    {
      "cell_type": "code",
      "source": [
        "#delete\n",
        "#remove,pop\n",
        "#remove->remove the first occurance or the first time the element occurs\n",
        "#pop->it will remove the element mentioned in the index\n",
        "\n",
        "list2.remove('Nidhi')"
      ],
      "metadata": {
        "id": "XRbVgIys-XRv"
      },
      "execution_count": null,
      "outputs": []
    },
    {
      "cell_type": "code",
      "source": [
        "list2"
      ],
      "metadata": {
        "colab": {
          "base_uri": "https://localhost:8080/"
        },
        "id": "AAZujmlp-wzH",
        "outputId": "ad2bb624-4e1e-4714-e45b-fc7a6480040a"
      },
      "execution_count": null,
      "outputs": [
        {
          "output_type": "execute_result",
          "data": {
            "text/plain": [
              "[1, True, 'Aman', 9.0, 'Dev', 'Preeti', (9+3j), 'Nidhi', 85]"
            ]
          },
          "metadata": {},
          "execution_count": 91
        }
      ]
    },
    {
      "cell_type": "code",
      "source": [
        "list2.pop()\n",
        "list2"
      ],
      "metadata": {
        "colab": {
          "base_uri": "https://localhost:8080/"
        },
        "id": "PReqFt3D-xmu",
        "outputId": "323e8834-b0a2-4029-8833-5d2335c8eca7"
      },
      "execution_count": null,
      "outputs": [
        {
          "output_type": "execute_result",
          "data": {
            "text/plain": [
              "[1, True, 'Aman', 9.0, 'Dev', 'Preeti', (9+3j), 'Nidhi']"
            ]
          },
          "metadata": {},
          "execution_count": 92
        }
      ]
    },
    {
      "cell_type": "code",
      "source": [
        "list2.pop(2)\n",
        "list2"
      ],
      "metadata": {
        "colab": {
          "base_uri": "https://localhost:8080/"
        },
        "id": "UJbsGbQG-3Gr",
        "outputId": "57cf3fa8-5eef-4a2d-8cd3-bb9f0ad135cc"
      },
      "execution_count": null,
      "outputs": [
        {
          "output_type": "execute_result",
          "data": {
            "text/plain": [
              "[1, True, 9.0, 'Dev', 'Preeti', (9+3j), 'Nidhi']"
            ]
          },
          "metadata": {},
          "execution_count": 93
        }
      ]
    },
    {
      "cell_type": "code",
      "source": [
        "#updation\n",
        "list2[2] = 8865435132\n",
        "list2"
      ],
      "metadata": {
        "colab": {
          "base_uri": "https://localhost:8080/"
        },
        "id": "bpYUz7T7_EH_",
        "outputId": "7e7b5217-6a8a-42a1-8b64-2b038c80c606"
      },
      "execution_count": null,
      "outputs": [
        {
          "output_type": "execute_result",
          "data": {
            "text/plain": [
              "[1, True, 8865435132, 'Dev', 'Preeti', (9+3j), 'Nidhi']"
            ]
          },
          "metadata": {},
          "execution_count": 94
        }
      ]
    },
    {
      "cell_type": "code",
      "source": [
        "list2.pop(2)\n",
        "list2"
      ],
      "metadata": {
        "colab": {
          "base_uri": "https://localhost:8080/"
        },
        "id": "fd_zXige_kje",
        "outputId": "bba65dea-c2b0-4603-c70a-0275335619b3"
      },
      "execution_count": null,
      "outputs": [
        {
          "output_type": "execute_result",
          "data": {
            "text/plain": [
              "[1, True, 'Dev', 'Preeti', (9+3j), 'Nidhi']"
            ]
          },
          "metadata": {},
          "execution_count": 95
        }
      ]
    },
    {
      "cell_type": "code",
      "source": [],
      "metadata": {
        "id": "zBKCf7c9AOsG"
      },
      "execution_count": null,
      "outputs": []
    }
  ]
}